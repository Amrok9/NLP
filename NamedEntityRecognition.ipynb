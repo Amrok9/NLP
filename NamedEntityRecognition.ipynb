{
  "nbformat": 4,
  "nbformat_minor": 0,
  "metadata": {
    "colab": {
      "provenance": []
    },
    "kernelspec": {
      "name": "python3",
      "display_name": "Python 3"
    },
    "language_info": {
      "name": "python"
    }
  },
  "cells": [
    {
      "cell_type": "markdown",
      "source": [
        "### **Named Entity Recognition with spaCy**\n",
        "**Goal:** Extract named entities (like PERSON, ORG, DATE, GPE) from text using spaCy’s built in NER model."
      ],
      "metadata": {
        "id": "8E0SM-chWkDe"
      }
    },
    {
      "cell_type": "markdown",
      "source": [
        "**Install and Load spaCy**"
      ],
      "metadata": {
        "id": "tWDbEirVWpBt"
      }
    },
    {
      "cell_type": "code",
      "execution_count": 5,
      "metadata": {
        "id": "OvHd6r1PVynX"
      },
      "outputs": [],
      "source": [
        "import spacy\n",
        "# Load spaCy's small English model\n",
        "nlp = spacy.load(\"en_core_web_sm\")"
      ]
    },
    {
      "cell_type": "markdown",
      "source": [
        "**Define Input Text**\n",
        "\n",
        "You can use any article, resume snippet, or news report."
      ],
      "metadata": {
        "id": "KufVgroSWsYE"
      }
    },
    {
      "cell_type": "code",
      "source": [
        "text = \"\"\"\n",
        "Apple Inc. is planning to launch the iPhone 15 in September 2023.\n",
        "Tim Cook, the CEO of Apple, announced this during the annual product keynote.\n",
        "The company expects a 10% increase in global sales, especially in markets like India and China,\n",
        "where demand for premium smartphones is rising.\n",
        "\"\"\""
      ],
      "metadata": {
        "id": "5yKAGj56V85c"
      },
      "execution_count": 6,
      "outputs": []
    },
    {
      "cell_type": "markdown",
      "source": [
        "**Apply spaCy NER Pipeline**"
      ],
      "metadata": {
        "id": "OwsUDtxvWuzF"
      }
    },
    {
      "cell_type": "code",
      "source": [
        "# Process text\n",
        "doc = nlp(text)\n",
        "# Display named entities\n",
        "for ent in doc.ents:\n",
        "  print(f\"{ent.text:<30} → {ent.label_} ({spacy.explain(ent.label_)})\")"
      ],
      "metadata": {
        "colab": {
          "base_uri": "https://localhost:8080/"
        },
        "id": "0iUx2TGkWNJx",
        "outputId": "6da72db8-8296-418d-cf69-0cacd458f796"
      },
      "execution_count": 8,
      "outputs": [
        {
          "output_type": "stream",
          "name": "stdout",
          "text": [
            "Apple Inc.                     → ORG (Companies, agencies, institutions, etc.)\n",
            "September 2023                 → DATE (Absolute or relative dates or periods)\n",
            "Tim Cook                       → PERSON (People, including fictional)\n",
            "Apple                          → ORG (Companies, agencies, institutions, etc.)\n",
            "annual                         → DATE (Absolute or relative dates or periods)\n",
            "10%                            → PERCENT (Percentage, including \"%\")\n",
            "India                          → GPE (Countries, cities, states)\n",
            "China                          → GPE (Countries, cities, states)\n"
          ]
        }
      ]
    },
    {
      "cell_type": "markdown",
      "source": [
        "**Visualize Named Entities**"
      ],
      "metadata": {
        "id": "cEKzWS3ZWxM9"
      }
    },
    {
      "cell_type": "code",
      "source": [
        "from spacy import displacy\n",
        "# Render entities in Jupyter or browser\n",
        "\n",
        "displacy.render(doc, style=\"ent\", jupyter=True)"
      ],
      "metadata": {
        "colab": {
          "base_uri": "https://localhost:8080/",
          "height": 192
        },
        "id": "KOgC4IkhWPuE",
        "outputId": "36dcae2b-b345-4574-f004-0e0aa62e9763"
      },
      "execution_count": 9,
      "outputs": [
        {
          "output_type": "display_data",
          "data": {
            "text/plain": [
              "<IPython.core.display.HTML object>"
            ],
            "text/html": [
              "<span class=\"tex2jax_ignore\"><div class=\"entities\" style=\"line-height: 2.5; direction: ltr\"><br>\n",
              "<mark class=\"entity\" style=\"background: #7aecec; padding: 0.45em 0.6em; margin: 0 0.25em; line-height: 1; border-radius: 0.35em;\">\n",
              "    Apple Inc.\n",
              "    <span style=\"font-size: 0.8em; font-weight: bold; line-height: 1; border-radius: 0.35em; vertical-align: middle; margin-left: 0.5rem\">ORG</span>\n",
              "</mark>\n",
              " is planning to launch the iPhone 15 in \n",
              "<mark class=\"entity\" style=\"background: #bfe1d9; padding: 0.45em 0.6em; margin: 0 0.25em; line-height: 1; border-radius: 0.35em;\">\n",
              "    September 2023\n",
              "    <span style=\"font-size: 0.8em; font-weight: bold; line-height: 1; border-radius: 0.35em; vertical-align: middle; margin-left: 0.5rem\">DATE</span>\n",
              "</mark>\n",
              ". <br>\n",
              "<mark class=\"entity\" style=\"background: #aa9cfc; padding: 0.45em 0.6em; margin: 0 0.25em; line-height: 1; border-radius: 0.35em;\">\n",
              "    Tim Cook\n",
              "    <span style=\"font-size: 0.8em; font-weight: bold; line-height: 1; border-radius: 0.35em; vertical-align: middle; margin-left: 0.5rem\">PERSON</span>\n",
              "</mark>\n",
              ", the CEO of \n",
              "<mark class=\"entity\" style=\"background: #7aecec; padding: 0.45em 0.6em; margin: 0 0.25em; line-height: 1; border-radius: 0.35em;\">\n",
              "    Apple\n",
              "    <span style=\"font-size: 0.8em; font-weight: bold; line-height: 1; border-radius: 0.35em; vertical-align: middle; margin-left: 0.5rem\">ORG</span>\n",
              "</mark>\n",
              ", announced this during the \n",
              "<mark class=\"entity\" style=\"background: #bfe1d9; padding: 0.45em 0.6em; margin: 0 0.25em; line-height: 1; border-radius: 0.35em;\">\n",
              "    annual\n",
              "    <span style=\"font-size: 0.8em; font-weight: bold; line-height: 1; border-radius: 0.35em; vertical-align: middle; margin-left: 0.5rem\">DATE</span>\n",
              "</mark>\n",
              " product keynote. <br>The company expects a \n",
              "<mark class=\"entity\" style=\"background: #e4e7d2; padding: 0.45em 0.6em; margin: 0 0.25em; line-height: 1; border-radius: 0.35em;\">\n",
              "    10%\n",
              "    <span style=\"font-size: 0.8em; font-weight: bold; line-height: 1; border-radius: 0.35em; vertical-align: middle; margin-left: 0.5rem\">PERCENT</span>\n",
              "</mark>\n",
              " increase in global sales, especially in markets like \n",
              "<mark class=\"entity\" style=\"background: #feca74; padding: 0.45em 0.6em; margin: 0 0.25em; line-height: 1; border-radius: 0.35em;\">\n",
              "    India\n",
              "    <span style=\"font-size: 0.8em; font-weight: bold; line-height: 1; border-radius: 0.35em; vertical-align: middle; margin-left: 0.5rem\">GPE</span>\n",
              "</mark>\n",
              " and \n",
              "<mark class=\"entity\" style=\"background: #feca74; padding: 0.45em 0.6em; margin: 0 0.25em; line-height: 1; border-radius: 0.35em;\">\n",
              "    China\n",
              "    <span style=\"font-size: 0.8em; font-weight: bold; line-height: 1; border-radius: 0.35em; vertical-align: middle; margin-left: 0.5rem\">GPE</span>\n",
              "</mark>\n",
              ", <br>where demand for premium smartphones is rising.<br></div></span>"
            ]
          },
          "metadata": {}
        }
      ]
    },
    {
      "cell_type": "markdown",
      "source": [
        "**Group Entities by Type**"
      ],
      "metadata": {
        "id": "K8ymG5SSW4ht"
      }
    },
    {
      "cell_type": "code",
      "source": [
        "from collections import defaultdict\n",
        "\n",
        "entities_by_type = defaultdict(list)\n",
        "for ent in doc.ents:\n",
        "  entities_by_type[ent.label_].append(ent.text)\n",
        "\n",
        "for label, ents in entities_by_type.items():\n",
        "  print(f\"{label} ({spacy.explain(label)}): {set(ents)}\\n\")"
      ],
      "metadata": {
        "colab": {
          "base_uri": "https://localhost:8080/"
        },
        "id": "Y5NNA5PFWVGk",
        "outputId": "54af7ac1-764a-4a92-c15c-4ddd9fffa1cb"
      },
      "execution_count": 10,
      "outputs": [
        {
          "output_type": "stream",
          "name": "stdout",
          "text": [
            "ORG (Companies, agencies, institutions, etc.): {'Apple', 'Apple Inc.'}\n",
            "\n",
            "DATE (Absolute or relative dates or periods): {'September 2023', 'annual'}\n",
            "\n",
            "PERSON (People, including fictional): {'Tim Cook'}\n",
            "\n",
            "PERCENT (Percentage, including \"%\"): {'10%'}\n",
            "\n",
            "GPE (Countries, cities, states): {'China', 'India'}\n",
            "\n"
          ]
        }
      ]
    },
    {
      "cell_type": "markdown",
      "source": [
        "### 📌 **Summary**\n",
        "\n",
        "In this project, we built a Named Entity Recognition (NER) system using **spaCy’s pretrained NLP model (`en_core_web_sm`)** to automatically identify and classify entities from unstructured text.\n",
        "\n",
        "The pipeline was designed to detect key entities such as:\n",
        "\n",
        "- **ORG** – Organizations and institutions  \n",
        "- **PERSON** – Names of individuals  \n",
        "- **DATE** – Temporal expressions  \n",
        "- **GPE** – Geopolitical entities (countries, cities)  \n",
        "- **PERCENT** – Percentage values\n",
        "\n",
        "The extracted entities were grouped by type and optionally visualized using `displacy`, spaCy’s built-in rendering tool. We also structured the output to display unique entities per category.\n",
        "\n",
        "---\n",
        "\n",
        "### 🔍 Key Takeaways:\n",
        "- Used `spaCy` to build a lightweight, rule-free NER system.\n",
        "- Extracted meaningful insights from plain text efficiently.\n",
        "- Demonstrated how NER can support downstream tasks like information extraction, content analysis, and knowledge graph construction.\n",
        "\n",
        "This project showcases the practical utility of pretrained NLP pipelines in processing real-world language data with minimal setup.\n"
      ],
      "metadata": {
        "id": "rTw69H4iXAat"
      }
    }
  ]
}