{
  "nbformat": 4,
  "nbformat_minor": 0,
  "metadata": {
    "colab": {
      "provenance": []
    },
    "kernelspec": {
      "name": "python3",
      "display_name": "Python 3"
    },
    "language_info": {
      "name": "python"
    }
  },
  "cells": [
    {
      "cell_type": "markdown",
      "source": [
        "### **Question Answering System (Using Transformers)**\n",
        " **Goal:** Build a closed-book QA system using a pretrained Transformer model (like\n",
        " distilbert-base-cased ) that answers questions based on a given paragraph or passage."
      ],
      "metadata": {
        "id": "yiFh7802uOsw"
      }
    },
    {
      "cell_type": "markdown",
      "source": [
        "**Option 1: Using Hugging Face Transformers (No Search Backend)**"
      ],
      "metadata": {
        "id": "jwmGDBaTuUBI"
      }
    },
    {
      "cell_type": "markdown",
      "source": [
        "**Define a Context and a Question**"
      ],
      "metadata": {
        "id": "INfs-phFuZMi"
      }
    },
    {
      "cell_type": "code",
      "execution_count": 8,
      "metadata": {
        "id": "4YOqdHUrssmI"
      },
      "outputs": [],
      "source": [
        "# Define the context and question\n",
        "context = \"\"\"\n",
        "The Eiffel Tower is a wrought-iron lattice tower on the Champ de Mars in Paris.\n",
        "It is named after the engineer Gustave Eiffel, whose company designed and built the tower.\n",
        "Constructed from 1887 to 1889 as the entrance to the 1889 World's Fair, it was a remarkable engineering feat.\n",
        "\"\"\"\n",
        "\n",
        "question = \"Who designed the Eiffel Tower?\""
      ]
    },
    {
      "cell_type": "markdown",
      "source": [
        "**Load Pretrained QA Pipeline**"
      ],
      "metadata": {
        "id": "OrvtUYSUubD4"
      }
    },
    {
      "cell_type": "code",
      "source": [
        "from transformers import pipeline\n",
        "\n",
        "# Load the Question Answering pipeline with a small BERT model\n",
        "qa_pipeline = pipeline(\"question-answering\", model=\"distilbert-base-cased-distilled-squad\")\n",
        "\n",
        "# Predict the answer\n",
        "result = qa_pipeline({'question': question, 'context': context})\n",
        "\n",
        "# Print the answer\n",
        "print(\"Answer:\", result['answer'])"
      ],
      "metadata": {
        "colab": {
          "base_uri": "https://localhost:8080/"
        },
        "id": "VYfv2E83tIH4",
        "outputId": "f27843dc-42bb-4e4f-a607-37a33a0e827e"
      },
      "execution_count": 9,
      "outputs": [
        {
          "output_type": "stream",
          "name": "stderr",
          "text": [
            "Device set to use cpu\n"
          ]
        },
        {
          "output_type": "stream",
          "name": "stdout",
          "text": [
            "Answer: Gustave Eiffel\n"
          ]
        }
      ]
    },
    {
      "cell_type": "markdown",
      "source": [
        "### **Option 2: Open-Domain QA with Haystack**\n",
        "If you want your QA system to search across many documents (like multiple paragraphs, PDFs, or articles), you use Haystack."
      ],
      "metadata": {
        "id": "EAh6BVPSt5kZ"
      }
    },
    {
      "cell_type": "code",
      "source": [
        "!pip install farm-haystack[colab]"
      ],
      "metadata": {
        "colab": {
          "base_uri": "https://localhost:8080/"
        },
        "id": "K2bL_YKquJXB",
        "outputId": "ecf7c031-1716-4c8a-dbe1-7f84d9d9d7a5"
      },
      "execution_count": 15,
      "outputs": [
        {
          "output_type": "stream",
          "name": "stdout",
          "text": [
            "Collecting farm-haystack[colab]\n",
            "  Using cached farm_haystack-1.26.4.post0-py3-none-any.whl.metadata (28 kB)\n",
            "Collecting boilerpy3 (from farm-haystack[colab])\n",
            "  Using cached boilerpy3-1.0.7-py3-none-any.whl.metadata (5.8 kB)\n",
            "Collecting events (from farm-haystack[colab])\n",
            "  Using cached Events-0.5-py3-none-any.whl.metadata (3.9 kB)\n",
            "Requirement already satisfied: httpx in /usr/local/lib/python3.11/dist-packages (from farm-haystack[colab]) (0.28.1)\n",
            "Requirement already satisfied: jsonschema in /usr/local/lib/python3.11/dist-packages (from farm-haystack[colab]) (4.24.0)\n",
            "Collecting lazy-imports==0.3.1 (from farm-haystack[colab])\n",
            "  Using cached lazy_imports-0.3.1-py3-none-any.whl.metadata (10 kB)\n",
            "Requirement already satisfied: more-itertools in /usr/local/lib/python3.11/dist-packages (from farm-haystack[colab]) (10.7.0)\n",
            "Requirement already satisfied: networkx in /usr/local/lib/python3.11/dist-packages (from farm-haystack[colab]) (3.5)\n",
            "Requirement already satisfied: pandas in /usr/local/lib/python3.11/dist-packages (from farm-haystack[colab]) (2.2.2)\n",
            "Requirement already satisfied: pillow in /usr/local/lib/python3.11/dist-packages (from farm-haystack[colab]) (11.2.1)\n",
            "Requirement already satisfied: platformdirs in /usr/local/lib/python3.11/dist-packages (from farm-haystack[colab]) (4.3.8)\n",
            "Collecting posthog (from farm-haystack[colab])\n",
            "  Using cached posthog-6.0.1-py3-none-any.whl.metadata (6.0 kB)\n",
            "Collecting prompthub-py==4.0.0 (from farm-haystack[colab])\n",
            "  Using cached prompthub_py-4.0.0-py3-none-any.whl.metadata (2.2 kB)\n",
            "Collecting pydantic<2 (from farm-haystack[colab])\n",
            "  Using cached pydantic-1.10.22-cp311-cp311-manylinux_2_17_x86_64.manylinux2014_x86_64.whl.metadata (154 kB)\n",
            "Collecting quantulum3 (from farm-haystack[colab])\n",
            "  Using cached quantulum3-0.9.2-py3-none-any.whl.metadata (16 kB)\n",
            "Collecting rank-bm25 (from farm-haystack[colab])\n",
            "  Using cached rank_bm25-0.2.2-py3-none-any.whl.metadata (3.2 kB)\n",
            "Requirement already satisfied: requests in /usr/local/lib/python3.11/dist-packages (from farm-haystack[colab]) (2.32.3)\n",
            "Collecting requests-cache<1.0.0 (from farm-haystack[colab])\n",
            "  Using cached requests_cache-0.9.8-py3-none-any.whl.metadata (8.7 kB)\n",
            "Requirement already satisfied: scikit-learn>=1.3.0 in /usr/local/lib/python3.11/dist-packages (from farm-haystack[colab]) (1.6.1)\n",
            "Collecting sseclient-py (from farm-haystack[colab])\n",
            "  Using cached sseclient_py-1.8.0-py2.py3-none-any.whl.metadata (2.0 kB)\n",
            "Requirement already satisfied: tenacity in /usr/local/lib/python3.11/dist-packages (from farm-haystack[colab]) (8.5.0)\n",
            "Requirement already satisfied: tiktoken>=0.5.1 in /usr/local/lib/python3.11/dist-packages (from farm-haystack[colab]) (0.9.0)\n",
            "Requirement already satisfied: tqdm in /usr/local/lib/python3.11/dist-packages (from farm-haystack[colab]) (4.67.1)\n",
            "Requirement already satisfied: transformers<5.0,>=4.46 in /usr/local/lib/python3.11/dist-packages (from farm-haystack[colab]) (4.52.4)\n",
            "Collecting pillow (from farm-haystack[colab])\n",
            "  Downloading Pillow-9.0.0.tar.gz (49.5 MB)\n",
            "\u001b[2K     \u001b[90m━━━━━━━━━━━━━━━━━━━━━━━━━━━━━━━━━━━━━━━━\u001b[0m \u001b[32m49.5/49.5 MB\u001b[0m \u001b[31m15.9 MB/s\u001b[0m eta \u001b[36m0:00:00\u001b[0m\n",
            "\u001b[?25h  Preparing metadata (setup.py) ... \u001b[?25l\u001b[?25hdone\n",
            "Requirement already satisfied: pyyaml<7.0,>=6.0 in /usr/local/lib/python3.11/dist-packages (from prompthub-py==4.0.0->farm-haystack[colab]) (6.0.2)\n",
            "Requirement already satisfied: typing-extensions>=4.2.0 in /usr/local/lib/python3.11/dist-packages (from pydantic<2->farm-haystack[colab]) (4.14.0)\n",
            "Requirement already satisfied: charset-normalizer<4,>=2 in /usr/local/lib/python3.11/dist-packages (from requests->farm-haystack[colab]) (3.4.2)\n",
            "Requirement already satisfied: idna<4,>=2.5 in /usr/local/lib/python3.11/dist-packages (from requests->farm-haystack[colab]) (3.10)\n",
            "Requirement already satisfied: urllib3<3,>=1.21.1 in /usr/local/lib/python3.11/dist-packages (from requests->farm-haystack[colab]) (2.4.0)\n",
            "Requirement already satisfied: certifi>=2017.4.17 in /usr/local/lib/python3.11/dist-packages (from requests->farm-haystack[colab]) (2025.6.15)\n",
            "Collecting appdirs>=1.4.4 (from requests-cache<1.0.0->farm-haystack[colab])\n",
            "  Using cached appdirs-1.4.4-py2.py3-none-any.whl.metadata (9.0 kB)\n",
            "Requirement already satisfied: attrs>=21.2 in /usr/local/lib/python3.11/dist-packages (from requests-cache<1.0.0->farm-haystack[colab]) (25.3.0)\n",
            "Collecting cattrs>=22.2 (from requests-cache<1.0.0->farm-haystack[colab])\n",
            "  Using cached cattrs-25.1.1-py3-none-any.whl.metadata (8.4 kB)\n",
            "Collecting url-normalize>=1.4 (from requests-cache<1.0.0->farm-haystack[colab])\n",
            "  Using cached url_normalize-2.2.1-py3-none-any.whl.metadata (5.6 kB)\n",
            "Requirement already satisfied: numpy>=1.19.5 in /usr/local/lib/python3.11/dist-packages (from scikit-learn>=1.3.0->farm-haystack[colab]) (2.0.2)\n",
            "Requirement already satisfied: scipy>=1.6.0 in /usr/local/lib/python3.11/dist-packages (from scikit-learn>=1.3.0->farm-haystack[colab]) (1.15.3)\n",
            "Requirement already satisfied: joblib>=1.2.0 in /usr/local/lib/python3.11/dist-packages (from scikit-learn>=1.3.0->farm-haystack[colab]) (1.5.1)\n",
            "Requirement already satisfied: threadpoolctl>=3.1.0 in /usr/local/lib/python3.11/dist-packages (from scikit-learn>=1.3.0->farm-haystack[colab]) (3.6.0)\n",
            "Requirement already satisfied: regex>=2022.1.18 in /usr/local/lib/python3.11/dist-packages (from tiktoken>=0.5.1->farm-haystack[colab]) (2024.11.6)\n",
            "Requirement already satisfied: filelock in /usr/local/lib/python3.11/dist-packages (from transformers<5.0,>=4.46->farm-haystack[colab]) (3.18.0)\n",
            "Requirement already satisfied: huggingface-hub<1.0,>=0.30.0 in /usr/local/lib/python3.11/dist-packages (from transformers<5.0,>=4.46->farm-haystack[colab]) (0.33.0)\n",
            "Requirement already satisfied: packaging>=20.0 in /usr/local/lib/python3.11/dist-packages (from transformers<5.0,>=4.46->farm-haystack[colab]) (24.2)\n",
            "Requirement already satisfied: tokenizers<0.22,>=0.21 in /usr/local/lib/python3.11/dist-packages (from transformers<5.0,>=4.46->farm-haystack[colab]) (0.21.2)\n",
            "Requirement already satisfied: safetensors>=0.4.3 in /usr/local/lib/python3.11/dist-packages (from transformers<5.0,>=4.46->farm-haystack[colab]) (0.5.3)\n",
            "Requirement already satisfied: anyio in /usr/local/lib/python3.11/dist-packages (from httpx->farm-haystack[colab]) (4.9.0)\n",
            "Requirement already satisfied: httpcore==1.* in /usr/local/lib/python3.11/dist-packages (from httpx->farm-haystack[colab]) (1.0.9)\n",
            "Requirement already satisfied: h11>=0.16 in /usr/local/lib/python3.11/dist-packages (from httpcore==1.*->httpx->farm-haystack[colab]) (0.16.0)\n",
            "Requirement already satisfied: jsonschema-specifications>=2023.03.6 in /usr/local/lib/python3.11/dist-packages (from jsonschema->farm-haystack[colab]) (2025.4.1)\n",
            "Requirement already satisfied: referencing>=0.28.4 in /usr/local/lib/python3.11/dist-packages (from jsonschema->farm-haystack[colab]) (0.36.2)\n",
            "Requirement already satisfied: rpds-py>=0.7.1 in /usr/local/lib/python3.11/dist-packages (from jsonschema->farm-haystack[colab]) (0.25.1)\n",
            "Requirement already satisfied: python-dateutil>=2.8.2 in /usr/local/lib/python3.11/dist-packages (from pandas->farm-haystack[colab]) (2.9.0.post0)\n",
            "Requirement already satisfied: pytz>=2020.1 in /usr/local/lib/python3.11/dist-packages (from pandas->farm-haystack[colab]) (2025.2)\n",
            "Requirement already satisfied: tzdata>=2022.7 in /usr/local/lib/python3.11/dist-packages (from pandas->farm-haystack[colab]) (2025.2)\n",
            "Requirement already satisfied: six>=1.5 in /usr/local/lib/python3.11/dist-packages (from posthog->farm-haystack[colab]) (1.17.0)\n",
            "Collecting backoff>=1.10.0 (from posthog->farm-haystack[colab])\n",
            "  Using cached backoff-2.2.1-py3-none-any.whl.metadata (14 kB)\n",
            "Requirement already satisfied: distro>=1.5.0 in /usr/local/lib/python3.11/dist-packages (from posthog->farm-haystack[colab]) (1.9.0)\n",
            "Requirement already satisfied: inflect in /usr/local/lib/python3.11/dist-packages (from quantulum3->farm-haystack[colab]) (7.5.0)\n",
            "Collecting num2words (from quantulum3->farm-haystack[colab])\n",
            "  Using cached num2words-0.5.14-py3-none-any.whl.metadata (13 kB)\n",
            "Requirement already satisfied: fsspec>=2023.5.0 in /usr/local/lib/python3.11/dist-packages (from huggingface-hub<1.0,>=0.30.0->transformers<5.0,>=4.46->farm-haystack[colab]) (2025.3.2)\n",
            "Requirement already satisfied: hf-xet<2.0.0,>=1.1.2 in /usr/local/lib/python3.11/dist-packages (from huggingface-hub<1.0,>=0.30.0->transformers<5.0,>=4.46->farm-haystack[colab]) (1.1.5)\n",
            "Requirement already satisfied: sniffio>=1.1 in /usr/local/lib/python3.11/dist-packages (from anyio->httpx->farm-haystack[colab]) (1.3.1)\n",
            "Requirement already satisfied: typeguard>=4.0.1 in /usr/local/lib/python3.11/dist-packages (from inflect->quantulum3->farm-haystack[colab]) (4.4.4)\n",
            "Collecting docopt>=0.6.2 (from num2words->quantulum3->farm-haystack[colab])\n",
            "  Using cached docopt-0.6.2-py2.py3-none-any.whl\n",
            "Using cached lazy_imports-0.3.1-py3-none-any.whl (12 kB)\n",
            "Using cached prompthub_py-4.0.0-py3-none-any.whl (6.9 kB)\n",
            "Using cached pydantic-1.10.22-cp311-cp311-manylinux_2_17_x86_64.manylinux2014_x86_64.whl (3.1 MB)\n",
            "Using cached requests_cache-0.9.8-py3-none-any.whl (48 kB)\n",
            "Using cached boilerpy3-1.0.7-py3-none-any.whl (22 kB)\n",
            "Using cached Events-0.5-py3-none-any.whl (6.8 kB)\n",
            "Using cached farm_haystack-1.26.4.post0-py3-none-any.whl (764 kB)\n",
            "Using cached posthog-6.0.1-py3-none-any.whl (104 kB)\n",
            "Using cached quantulum3-0.9.2-py3-none-any.whl (10.6 MB)\n",
            "Using cached rank_bm25-0.2.2-py3-none-any.whl (8.6 kB)\n",
            "Using cached sseclient_py-1.8.0-py2.py3-none-any.whl (8.8 kB)\n",
            "Using cached appdirs-1.4.4-py2.py3-none-any.whl (9.6 kB)\n",
            "Using cached backoff-2.2.1-py3-none-any.whl (15 kB)\n",
            "Using cached cattrs-25.1.1-py3-none-any.whl (69 kB)\n",
            "Using cached url_normalize-2.2.1-py3-none-any.whl (14 kB)\n",
            "Using cached num2words-0.5.14-py3-none-any.whl (163 kB)\n",
            "Building wheels for collected packages: pillow\n",
            "  Building wheel for pillow (setup.py) ... \u001b[?25l\u001b[?25hdone\n",
            "  Created wheel for pillow: filename=Pillow-9.0.0-cp311-cp311-linux_x86_64.whl size=1177622 sha256=e6d133db8475ec605095e85909ea6688fcfe8d42ae9153a18155f45be16c908d\n",
            "  Stored in directory: /root/.cache/pip/wheels/0c/83/93/7ecd5a526f27268c0d6d47c5906dc7d368748226e281caf158\n",
            "Successfully built pillow\n",
            "Installing collected packages: sseclient-py, events, docopt, appdirs, url-normalize, rank-bm25, pydantic, pillow, num2words, lazy-imports, cattrs, boilerpy3, backoff, requests-cache, prompthub-py, posthog, quantulum3, farm-haystack\n",
            "  Attempting uninstall: pydantic\n",
            "    Found existing installation: pydantic 2.11.7\n",
            "    Uninstalling pydantic-2.11.7:\n",
            "      Successfully uninstalled pydantic-2.11.7\n",
            "  Attempting uninstall: pillow\n",
            "    Found existing installation: pillow 11.2.1\n",
            "    Uninstalling pillow-11.2.1:\n",
            "      Successfully uninstalled pillow-11.2.1\n",
            "\u001b[31mERROR: pip's dependency resolver does not currently take into account all the packages that are installed. This behaviour is the source of the following dependency conflicts.\n",
            "scikit-image 0.25.2 requires pillow>=10.1, but you have pillow 9.0.0 which is incompatible.\n",
            "google-genai 1.21.1 requires pydantic<3.0.0,>=2.0.0, but you have pydantic 1.10.22 which is incompatible.\n",
            "gradio 5.31.0 requires pydantic<2.12,>=2.0, but you have pydantic 1.10.22 which is incompatible.\n",
            "torchtune 0.6.1 requires Pillow>=9.4.0, but you have pillow 9.0.0 which is incompatible.\n",
            "thinc 8.3.6 requires pydantic<3.0.0,>=2.0.0, but you have pydantic 1.10.22 which is incompatible.\n",
            "albumentations 2.0.8 requires pydantic>=2.9.2, but you have pydantic 1.10.22 which is incompatible.\n",
            "langchain 0.3.26 requires pydantic<3.0.0,>=2.7.4, but you have pydantic 1.10.22 which is incompatible.\n",
            "langchain-core 0.3.66 requires pydantic>=2.7.4, but you have pydantic 1.10.22 which is incompatible.\u001b[0m\u001b[31m\n",
            "\u001b[0mSuccessfully installed appdirs-1.4.4 backoff-2.2.1 boilerpy3-1.0.7 cattrs-25.1.1 docopt-0.6.2 events-0.5 farm-haystack-1.26.4.post0 lazy-imports-0.3.1 num2words-0.5.14 pillow-9.0.0 posthog-6.0.1 prompthub-py-4.0.0 pydantic-1.10.22 quantulum3-0.9.2 rank-bm25-0.2.2 requests-cache-0.9.8 sseclient-py-1.8.0 url-normalize-2.2.1\n"
          ]
        }
      ]
    },
    {
      "cell_type": "markdown",
      "source": [
        "**Basic Haystack Setup**"
      ],
      "metadata": {
        "id": "2Cb65KeAunpo"
      }
    },
    {
      "cell_type": "code",
      "source": [
        "from haystack.nodes import FARMReader, BM25Retriever\n",
        "from haystack.document_stores import InMemoryDocumentStore\n",
        "from haystack.pipelines import ExtractiveQAPipeline\n",
        "\n",
        "# 1. Set up document store with BM25 enabled\n",
        "document_store = InMemoryDocumentStore(use_bm25=True)\n",
        "\n",
        "# 2. Add documents\n",
        "context = \"\"\"\n",
        "The Eiffel Tower is a wrought-iron lattice tower on the Champ de Mars in Paris.\n",
        "It is named after the engineer Gustave Eiffel, whose company designed and built the tower.\n",
        "Constructed from 1887 to 1889 as the entrance to the 1889 World's Fair.\n",
        "\"\"\"\n",
        "docs = [{\"content\": context}]\n",
        "document_store.write_documents(docs)\n",
        "\n",
        "# 3. Initialize BM25 retriever (no embeddings needed)\n",
        "retriever = BM25Retriever(document_store=document_store)\n",
        "\n",
        "# 4. Load the QA reader model\n",
        "reader = FARMReader(model_name_or_path=\"deepset/roberta-base-squad2\", use_gpu=False)\n",
        "\n",
        "# 5. Create the QA pipeline\n",
        "pipe = ExtractiveQAPipeline(reader, retriever)\n",
        "\n",
        "# 6. Ask a question\n",
        "question = \"Who designed the Eiffel Tower?\"\n",
        "\n",
        "# 7. Run the pipeline\n",
        "prediction = pipe.run(query=question, params={\"Retriever\": {\"top_k\": 2}, \"Reader\": {\"top_k\": 1}})\n",
        "\n",
        "# 8. Print the answer\n",
        "print(\"\\nAnswer:\", prediction['answers'][0].answer)\n"
      ],
      "metadata": {
        "colab": {
          "base_uri": "https://localhost:8080/"
        },
        "id": "dpQmfIUbtLKE",
        "outputId": "a4612f09-a4fb-4f6e-e2c2-6e9a9a732172"
      },
      "execution_count": 22,
      "outputs": [
        {
          "output_type": "stream",
          "name": "stderr",
          "text": [
            "Updating BM25 representation...: 100%|██████████| 1/1 [00:00<00:00, 3379.78 docs/s]\n",
            "Inferencing Samples: 100%|██████████| 1/1 [00:00<00:00,  1.02 Batches/s]"
          ]
        },
        {
          "output_type": "stream",
          "name": "stdout",
          "text": [
            "\n",
            "Answer: Gustave Eiffel\n"
          ]
        },
        {
          "output_type": "stream",
          "name": "stderr",
          "text": [
            "\n"
          ]
        }
      ]
    },
    {
      "cell_type": "markdown",
      "source": [
        "### 📝 Summary\n",
        "\n",
        "This project builds a closed-book Question Answering (QA) system using Transformer models.\n",
        "\n",
        "🧠 **Approach 1: Hugging Face Transformers**\n",
        "- Uses the `pipeline(\"question-answering\")` API with a pretrained model (`distilbert-base-cased-distilled-squad`)\n",
        "- Takes a **context paragraph** and a **question** as input, and returns the most likely answer span.\n",
        "\n",
        "📦 **Model**: DistilBERT fine-tuned on SQuAD  \n",
        "📤 **Input**: {question, context}  \n",
        "📥 **Output**: Extracted answer from the context\n",
        "\n",
        "---\n",
        "\n",
        "🔎 **Approach 2: Open-Domain QA with Haystack**\n",
        "- Stores multiple documents in a `DocumentStore`\n",
        "- Uses `BM25Retriever` to search relevant text and `FARMReader` (e.g., RoBERTa) to extract the answer\n",
        "- Suitable for searching across large sets of documents\n",
        "\n",
        "📦 **Retriever**: BM25  \n",
        "📦 **Reader**: deepset/roberta-base-squad2  \n",
        "🔄 **Pipeline**: Question → Retrieve relevant docs → Extract answer\n",
        "\n",
        "This project demonstrates both simple and advanced QA systems using Transformers.\n"
      ],
      "metadata": {
        "id": "xSvzg7GRxw14"
      }
    }
  ]
}