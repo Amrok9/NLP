{
  "nbformat": 4,
  "nbformat_minor": 0,
  "metadata": {
    "colab": {
      "provenance": []
    },
    "kernelspec": {
      "name": "python3",
      "display_name": "Python 3"
    },
    "language_info": {
      "name": "python"
    }
  },
  "cells": [
    {
      "cell_type": "markdown",
      "source": [
        "### **Zero-Shot Text Classification**\n",
        "**Goal:** Use a pretrained zero-shot model (like facebook/bart-large-mnli ) to assign custom category labels to a piece of text, even without training on those labels."
      ],
      "metadata": {
        "id": "CsLvMLDcwDQG"
      }
    },
    {
      "cell_type": "markdown",
      "source": [
        "**Load the Zero-Shot Classification Pipeline**"
      ],
      "metadata": {
        "id": "5yzsCiz2wHP7"
      }
    },
    {
      "cell_type": "code",
      "execution_count": 16,
      "metadata": {
        "colab": {
          "base_uri": "https://localhost:8080/"
        },
        "id": "jefaSFP4viUz",
        "outputId": "98b97c33-2bbd-49da-ab46-bba13bddbc4d"
      },
      "outputs": [
        {
          "output_type": "stream",
          "name": "stderr",
          "text": [
            "Device set to use cpu\n"
          ]
        }
      ],
      "source": [
        "from transformers import pipeline\n",
        "\n",
        "# Load zero-shot classification model\n",
        "classifier = pipeline(\"zero-shot-classification\", model=\"facebook/bart-large-mnli\")"
      ]
    },
    {
      "cell_type": "markdown",
      "source": [
        "**Define the Text and Candidate Labels**"
      ],
      "metadata": {
        "id": "CP1H6lDWwKDz"
      }
    },
    {
      "cell_type": "code",
      "source": [
        "text = \"I recently upgraded my phone and the camera quality is amazing. The battery life is also impressive.\"\n",
        "\n",
        "# Candidate labels (categories)\n",
        "labels = [\"technology\", \"food\", \"sports\", \"entertainment\", \"travel\", \"product review\"]"
      ],
      "metadata": {
        "id": "wB-jEcXtvwKG"
      },
      "execution_count": 17,
      "outputs": []
    },
    {
      "cell_type": "markdown",
      "source": [
        "**Classify the Text**"
      ],
      "metadata": {
        "id": "nH4umkYGwPyb"
      }
    },
    {
      "cell_type": "code",
      "source": [
        "result = classifier(text, candidate_labels=labels)\n",
        "# Show top predicted labels\n",
        "print(\"Text:\", text)\n",
        "print(\"\\nTop Predictions:\")\n",
        "for label, score in zip(result['labels'], result['scores']):\n",
        "  print(f\"{label}: {score:.4f}\")"
      ],
      "metadata": {
        "colab": {
          "base_uri": "https://localhost:8080/"
        },
        "id": "Q7WOUy4Mv1j2",
        "outputId": "677b87f7-8c27-4dd8-9c8a-593064c98570"
      },
      "execution_count": 18,
      "outputs": [
        {
          "output_type": "stream",
          "name": "stdout",
          "text": [
            "Text: I recently upgraded my phone and the camera quality is amazing. The battery life is also impressive.\n",
            "\n",
            "Top Predictions:\n",
            "technology: 0.8573\n",
            "product review: 0.0822\n",
            "entertainment: 0.0325\n",
            "travel: 0.0145\n",
            "sports: 0.0106\n",
            "food: 0.0029\n"
          ]
        }
      ]
    },
    {
      "cell_type": "markdown",
      "source": [
        "## 📝 Summary: Zero-Shot Text Classification\n",
        "\n",
        "This project uses a pretrained model (`facebook/bart-large-mnli`) to classify text into custom categories without training. It compares the input text to each candidate label using natural language inference and returns the most relevant labels with confidence scores.\n",
        "\n",
        "🔹 **Input:** A piece of text and a list of category labels  \n",
        "🔹 **Output:** Ranked labels based on semantic relevance  \n",
        "🔹 **Use Cases:** Auto-tagging, topic detection, support ticket routing\n",
        "\n",
        "✅ No need to train a model — it works out-of-the-box for any label set.\n"
      ],
      "metadata": {
        "id": "g1vyCLSDxdVD"
      }
    }
  ]
}